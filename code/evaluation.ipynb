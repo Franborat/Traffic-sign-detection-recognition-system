{
 "cells": [
  {
   "cell_type": "markdown",
   "metadata": {},
   "source": [
    "## Evaluation using Mean Average Precision"
   ]
  },
  {
   "cell_type": "code",
   "execution_count": null,
   "metadata": {},
   "outputs": [],
   "source": [
    "import numpy as np\n",
    "import cv2\n",
    "\n",
    "import matplotlib.pyplot as plt\n",
    "%matplotlib inline\n",
    "\n",
    "IMG_HEIGHT = 600\n",
    "SIGN_SIZE = (32, 32)\n",
    "\n",
    "# Function for reading the images\n",
    "def readImages(rootpath, images_range, signs_range):\n",
    "    '''Reads traffic sign data for German Traffic Sign Recognition Benchmark.\n",
    "    Arguments: path to the traffic sign data, for example 'FullIJCNN2013'\n",
    "    Returns:   list of images, list of corresponding labels'''\n",
    "    images = {} # original image\n",
    "    scales = {} # original scale\n",
    "    for num in images_range:\n",
    "        filename = rootpath + '/' + \"{:05d}\".format(num) + '.ppm'\n",
    "        img = cv2.imread(filename, cv2.IMREAD_COLOR)\n",
    "        scale = IMG_HEIGHT / float(img.shape[0])\n",
    "        img_resized = cv2.resize(img, (int(img.shape[1]*scale),int(img.shape[0]*scale)))\n",
    "        images.setdefault(filename,[]).append(img_resized)\n",
    "        scales.setdefault(filename,[]).append(scale)\n",
    "\n",
    "    files = [] # filenames\n",
    "    signs = [] # traffic sign image\n",
    "    bboxes = [] # corresponding box detection\n",
    "    labels = [] # traffic sign type\n",
    "    data = np.genfromtxt(rootpath + '/' + 'gt.txt', delimiter=';', dtype=str, usecols=range(0, 6))\n",
    "    for elem in signs_range:\n",
    "        filename = rootpath + '/' + data[elem][0]\n",
    "        img = images.get(filename)[0]\n",
    "        scale = scales.get(filename)[0]\n",
    "        bbox = np.array([int(data[elem][1]), int(data[elem][2]), int(data[elem][3]), int(data[elem][4])]) * scale\n",
    "        sign = img[int(bbox[1]):int(bbox[3]), int(bbox[0]):int(bbox[2])]\n",
    "        sign_resized = cv2.resize(sign, SIGN_SIZE)\n",
    "        files.append(filename)\n",
    "        signs.append(sign_resized)\n",
    "        bboxes.append(bbox)\n",
    "        labels.append(data[elem][5])\n",
    "    return images, files, signs, bboxes, labels"
   ]
  },
  {
   "cell_type": "markdown",
   "metadata": {},
   "source": [
    "### Load BinaryClassifier"
   ]
  },
  {
   "cell_type": "code",
   "execution_count": null,
   "metadata": {},
   "outputs": [],
   "source": [
    "from keras.models import load_model\n",
    "\n",
    "#model_detector = load_model('binary_model.h5')\n",
    "model_detector = load_model('binary_model_32.h5')"
   ]
  },
  {
   "cell_type": "markdown",
   "metadata": {},
   "source": [
    "### Load SignsClassifier"
   ]
  },
  {
   "cell_type": "code",
   "execution_count": null,
   "metadata": {},
   "outputs": [],
   "source": [
    "from keras.models import load_model\n",
    "\n",
    "#model_classifier = load_model('resnet.h5')\n",
    "model_classifier = load_model('classifier_32.h5')"
   ]
  },
  {
   "cell_type": "markdown",
   "metadata": {},
   "source": [
    "### Load BoundingBoxes and data"
   ]
  },
  {
   "cell_type": "code",
   "execution_count": null,
   "metadata": {},
   "outputs": [],
   "source": [
    "import pickle\n",
    "    \n",
    "with open('test_pred.pickle', 'rb') as f:\n",
    "    test_pred = pickle.load(f)"
   ]
  },
  {
   "cell_type": "code",
   "execution_count": null,
   "metadata": {},
   "outputs": [],
   "source": [
    "test_images, test_files, test_signs, test_bboxes, test_labels = readImages('FullIJCNN2013', range(600,900), range(852,1213))"
   ]
  },
  {
   "cell_type": "markdown",
   "metadata": {},
   "source": [
    "### Bbox filters"
   ]
  },
  {
   "cell_type": "code",
   "execution_count": null,
   "metadata": {},
   "outputs": [],
   "source": [
    "def filter_square(bbox):\n",
    "    largo = abs(bbox[2]-bbox[0])\n",
    "    ancho = abs(bbox[1]-bbox[3])\n",
    "    proporcion = largo/ancho\n",
    "    if(0.7 <= proporcion <= 1.3):\n",
    "        return True\n",
    "    else:\n",
    "        return False\n",
    "    \n",
    "def filter_bigbox(bbox):\n",
    "    largo = abs(bbox[2]-bbox[0])\n",
    "    ancho = abs(bbox[1]-bbox[3])\n",
    "    if(largo<150):\n",
    "        return True \n",
    "    if(ancho<150):\n",
    "        return True\n",
    "    else:\n",
    "        return False"
   ]
  },
  {
   "cell_type": "code",
   "execution_count": null,
   "metadata": {},
   "outputs": [],
   "source": [
    "for filename in test_images:\n",
    "    anns_ofs = open('mAP/ground-truth/' + filename[-9:-4:] + '.txt', 'w')\n",
    "    if filename in test_files:\n",
    "        for idx in [i for i, x in enumerate(test_files) if x == filename]:\n",
    "            bbox = test_bboxes[idx]\n",
    "            label = test_labels[idx]\n",
    "            anns_ofs.write(str(label) + ' ' + str(bbox[0]) + ' ' + str(bbox[1]) + ' ' + str(bbox[2]) + ' ' + str(bbox[3]) + '\\n')\n",
    "    anns_ofs.close()"
   ]
  },
  {
   "cell_type": "code",
   "execution_count": null,
   "metadata": {},
   "outputs": [],
   "source": [
    "'''\n",
    "Note that in our code sign_class: represents the predicted traffic sign label, \n",
    "confidence: the confidence that the bbox has a traffic sign, and \n",
    "bbox[...]: are the bbox co-ordinates.\n",
    "'''\n",
    "from time import time\n",
    "import matplotlib.pyplot as plt\n",
    "\n",
    "start = time()\n",
    "\n",
    "counter = 0\n",
    "\n",
    "for filename in test_images:\n",
    "    counter += 1\n",
    "    prds_ofs = open('mAP/predicted/' + filename[-9:-4:] + '.txt', 'w')\n",
    "    aux = test_images.get(filename)[0].copy()\n",
    "\n",
    "    for bbox in test_pred.get(filename)[0]:\n",
    "        roi = test_images.get(filename)[0][int(bbox[1]):int(bbox[3]), int(bbox[0]):int(bbox[2])]\n",
    "        roi_resized = cv2.resize(roi, SIGN_SIZE)\n",
    "        roi_resized = roi_resized.astype('float32')\n",
    "        roi_resized /= 255.0\n",
    "        roi_resized = np.reshape(roi_resized, [1,SIGN_SIZE[0],SIGN_SIZE[1],3])\n",
    "        # Run your own detector and save each traffic sign classification\n",
    "        \n",
    "        if(filter_square(bbox)):\n",
    "            if(filter_bigbox(bbox)):\n",
    "        \n",
    "                sign_background = model_detector.predict_classes(roi_resized)\n",
    "                confidence = model_detector.predict(roi_resized)\n",
    "                #print(confidence)\n",
    "        \n",
    "        # ...\n",
    "        # traffic_sign_class confidence bbox\n",
    "                if sign_background == 1:\n",
    "            \n",
    "                    sign_class = model_classifier.predict(roi_resized)\n",
    "            \n",
    "                    prds_ofs.write(str(np.argmax(sign_class[0])) + ' ' + str(confidence[0][1]) + ' ' + str(bbox[0]) + ' ' + str(bbox[1]) + ' ' + str(bbox[2]) + ' ' + str(bbox[3]) + '\\n')\n",
    "                    cv2.rectangle(aux, (int(bbox[0]),int(bbox[1])), (int(bbox[2]),int(bbox[3])), (0,255,0), 3)\n",
    "            \n",
    "    # Para la cantidad de señales que haya en esta road image\n",
    "    for idx in [i for i, x in enumerate(test_files) if x == filename]:\n",
    "    # Coje las ground-truth bboxes\n",
    "        bbox_truth = test_bboxes[idx]\n",
    "        # Y dibujalas\n",
    "        cv2.rectangle(aux, (int(bbox_truth[0]),int(bbox_truth[1])), (int(bbox_truth[2]),int(bbox_truth[3])), (255,0,0), 3)\n",
    "    \n",
    "    prds_ofs.close()\n",
    "    print(\"Image number: {}\".format(counter))\n",
    "    plt.imshow(cv2.cvtColor(aux, cv2.COLOR_BGR2RGB))\n",
    "    plt.show()\n",
    "end = time()\n",
    "print(\"Traffic sign detection took \" + str(end - start) + \" seconds\")\n",
    "\n",
    "\n",
    "\n"
   ]
  },
  {
   "cell_type": "markdown",
   "metadata": {},
   "source": [
    "### mAP Score"
   ]
  },
  {
   "cell_type": "code",
   "execution_count": null,
   "metadata": {},
   "outputs": [],
   "source": [
    "# Follow previous mAP code in order to evaluate the performance of your neural net\n",
    "%cd -q mAP\n",
    "%run main.py -na -np\n",
    "%cd -q"
   ]
  }
 ],
 "metadata": {
  "kernelspec": {
   "display_name": "Python 3",
   "language": "python",
   "name": "python3"
  },
  "language_info": {
   "codemirror_mode": {
    "name": "ipython",
    "version": 3
   },
   "file_extension": ".py",
   "mimetype": "text/x-python",
   "name": "python",
   "nbconvert_exporter": "python",
   "pygments_lexer": "ipython3",
   "version": "3.6.8"
  }
 },
 "nbformat": 4,
 "nbformat_minor": 2
}
